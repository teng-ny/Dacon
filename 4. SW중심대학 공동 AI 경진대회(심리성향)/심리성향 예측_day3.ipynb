{
 "cells": [
  {
   "cell_type": "code",
   "execution_count": 1,
   "id": "2d00ad44",
   "metadata": {},
   "outputs": [],
   "source": [
    "import os\n",
    "import warnings\n",
    "warnings.filterwarnings('ignore')\n",
    "import numpy as np\n",
    "import pandas as pd\n",
    "\n",
    "import numpy.random\n",
    "from tqdm import tqdm_notebook as tqdm\n",
    "import matplotlib.pyplot as plt\n",
    "import seaborn as sns\n",
    "\n",
    "pd.set_option('display.max_columns', 500)"
   ]
  },
  {
   "cell_type": "code",
   "execution_count": 2,
   "id": "003ebd82",
   "metadata": {},
   "outputs": [],
   "source": [
    "import matplotlib.pyplot as plt\n",
    "import seaborn as sns"
   ]
  },
  {
   "cell_type": "markdown",
   "id": "89ff6075",
   "metadata": {},
   "source": [
    "## 데이터 불러오기"
   ]
  },
  {
   "cell_type": "code",
   "execution_count": 3,
   "id": "48e01cf9",
   "metadata": {},
   "outputs": [],
   "source": [
    "train_data=pd.read_csv(\"train.csv\", index_col=0)\n",
    "test_data=pd.read_csv(\"test.csv\", index_col=0)"
   ]
  },
  {
   "cell_type": "code",
   "execution_count": 4,
   "id": "84370cdb",
   "metadata": {},
   "outputs": [
    {
     "name": "stdout",
     "output_type": "stream",
     "text": [
      "(15000, 69)\n"
     ]
    }
   ],
   "source": [
    "print(train_data.shape)"
   ]
  },
  {
   "cell_type": "markdown",
   "id": "36f647c1",
   "metadata": {},
   "source": [
    "## 수치형 변수 box plot->이상치 제거 (train_data)"
   ]
  },
  {
   "cell_type": "markdown",
   "id": "9b7a9f0b",
   "metadata": {},
   "source": [
    "- familysize plot"
   ]
  },
  {
   "cell_type": "code",
   "execution_count": 5,
   "id": "b0fb5eec",
   "metadata": {},
   "outputs": [
    {
     "data": {
      "text/plain": [
       "<AxesSubplot:>"
      ]
     },
     "execution_count": 5,
     "metadata": {},
     "output_type": "execute_result"
    },
    {
     "data": {
      "image/png": "[encoded data removed]",
      "text/plain": [
       "<Figure size 432x288 with 1 Axes>"
      ]
     },
     "metadata": {
      "needs_background": "light"
     },
     "output_type": "display_data"
    }
   ],
   "source": [
    "eda1=train_data[['familysize']]\n",
    "eda1\n",
    "eda1.plot(kind='box')"
   ]
  },
  {
   "cell_type": "markdown",
   "id": "8fc16d39",
   "metadata": {},
   "source": [
    "- familysize 이상치 제거"
   ]
  },
  {
   "cell_type": "code",
   "execution_count": 6,
   "id": "93313512",
   "metadata": {},
   "outputs": [
    {
     "name": "stdout",
     "output_type": "stream",
     "text": [
      "이상치 제거 후: (14678, 69)\n"
     ]
    }
   ],
   "source": [
    "train_data = train_data[train_data['familysize'] < 30]\n",
    "print('이상치 제거 후:',train_data.shape)"
   ]
  },
  {
   "cell_type": "code",
   "execution_count": 7,
   "id": "e803a57f",
   "metadata": {},
   "outputs": [
    {
     "data": {
      "text/plain": [
       "<AxesSubplot:>"
      ]
     },
     "execution_count": 7,
     "metadata": {},
     "output_type": "execute_result"
    },
    {
     "data": {
      "image/png": "[encoded data removed]",
      "text/plain": [
       "<Figure size 432x288 with 1 Axes>"
      ]
     },
     "metadata": {
      "needs_background": "light"
     },
     "output_type": "display_data"
    }
   ],
   "source": [
    "eda1=train_data[['familysize']]\n",
    "eda1\n",
    "eda1.plot(kind='box')"
   ]
  },
  {
   "cell_type": "markdown",
   "id": "94fb9834",
   "metadata": {},
   "source": [
    "- age plot"
   ]
  },
  {
   "cell_type": "code",
   "execution_count": 8,
   "id": "3983bfd7",
   "metadata": {},
   "outputs": [
    {
     "data": {
      "text/plain": [
       "<AxesSubplot:>"
      ]
     },
     "execution_count": 8,
     "metadata": {},
     "output_type": "execute_result"
    },
    {
     "data": {
      "image/png": "[encoded data removed]",
      "text/plain": [
       "<Figure size 432x288 with 1 Axes>"
      ]
     },
     "metadata": {
      "needs_background": "light"
     },
     "output_type": "display_data"
    }
   ],
   "source": [
    "eda2=train_data[['age']]\n",
    "eda2\n",
    "eda2.plot(kind='box')"
   ]
  },
  {
   "cell_type": "markdown",
   "id": "8151454d",
   "metadata": {},
   "source": [
    "- age 이상치 제거"
   ]
  },
  {
   "cell_type": "code",
   "execution_count": 9,
   "id": "fa3dc62c",
   "metadata": {},
   "outputs": [
    {
     "name": "stdout",
     "output_type": "stream",
     "text": [
      "이상치 제거 후: (14671, 69)\n"
     ]
    }
   ],
   "source": [
    "train_data = train_data[train_data['age'] < 90]\n",
    "print('이상치 제거 후:',train_data.shape)"
   ]
  },
  {
   "cell_type": "code",
   "execution_count": 10,
   "id": "02ea2b27",
   "metadata": {},
   "outputs": [
    {
     "data": {
      "text/plain": [
       "<AxesSubplot:>"
      ]
     },
     "execution_count": 10,
     "metadata": {},
     "output_type": "execute_result"
    },
    {
     "data": {
      "image/png": "[encoded data removed]",
      "text/plain": [
       "<Figure size 432x288 with 1 Axes>"
      ]
     },
     "metadata": {
      "needs_background": "light"
     },
     "output_type": "display_data"
    }
   ],
   "source": [
    "eda2=train_data[['age']]\n",
    "eda2\n",
    "eda2.plot(kind='box')"
   ]
  },
  {
   "cell_type": "markdown",
   "id": "005bb8cd",
   "metadata": {},
   "source": [
    "## 범주형변수 시각화\n",
    "- education, urban, gender, engnat, religion, married, ASD, voted"
   ]
  },
  {
   "cell_type": "code",
   "execution_count": null,
   "id": "13e29ab5",
   "metadata": {},
   "outputs": [
    {
     "data": {
      "text/plain": [
       "<BarContainer object of 2 artists>"
      ]
     },
     "execution_count": 11,
     "metadata": {},
     "output_type": "execute_result"
    }
   ],
   "source": [
    "fig,axs=plt.subplots(4,2, figsize=(20,14))\n",
    "axs[0][0].bar(train_data['education'].value_counts().index, train_data['education'].value_counts().values)\n",
    "axs[0][1].bar(train_data['urban'].value_counts().index, train_data['urban'].value_counts().values)\n",
    "axs[1][0].bar(train_data['gender'].value_counts().index,train_data['gender'].value_counts().values)\n",
    "axs[1][1].bar(train_data['engnat'].value_counts().index, train_data['engnat'].value_counts().values)\n",
    "axs[2][0].bar(train_data['religion'].value_counts().index,train_data['religion'].value_counts().values)\n",
    "axs[2][1].bar(train_data['married'].value_counts().index, train_data['married'].value_counts().values)\n",
    "axs[3][0].bar(train_data['ASD'].value_counts().index, train_data['ASD'].value_counts().values)\n",
    "axs[3][1].bar(train_data['voted'].value_counts().index, train_data['voted'].value_counts().values)"
   ]
  },
  {
   "cell_type": "markdown",
   "id": "50185f5d",
   "metadata": {},
   "source": [
    "## TIPI) 결측값 평균값 대체, 전체 역변환"
   ]
  },
  {
   "cell_type": "code",
   "execution_count": null,
   "id": "d7769333",
   "metadata": {},
   "outputs": [],
   "source": [
    "tp_list=[i for i in train_data.columns if 'TIPI' in i]"
   ]
  },
  {
   "cell_type": "code",
   "execution_count": null,
   "id": "b7d5dc89",
   "metadata": {},
   "outputs": [],
   "source": [
    "#변환 전 확인\n",
    "train_data['orientation'].unique()"
   ]
  },
  {
   "cell_type": "code",
   "execution_count": null,
   "id": "25c526cf",
   "metadata": {},
   "outputs": [],
   "source": [
    "#결측값 평균값 대체->중앙값 대체(범주형때문)\n",
    "train_data=train_data.fillna(train_data.median())\n",
    "test_data=test_data.fillna(test_data.median())\n",
    "\n",
    "#전체적으로 역변환\n",
    "train_data[tp_list]=6-train_data[tp_list]\n",
    "test_data[tp_list]=6-test_data[tp_list]"
   ]
  },
  {
   "cell_type": "code",
   "execution_count": null,
   "id": "a65621cc",
   "metadata": {},
   "outputs": [],
   "source": [
    "#변환 후 확인\n",
    "train_data['orientation'].unique()"
   ]
  },
  {
   "cell_type": "markdown",
   "id": "9e994573",
   "metadata": {},
   "source": [
    "## TIPI) 공식대로 계산(5개의 새로운 변수 생성)\n",
    "- 짝수번호 역변환"
   ]
  },
  {
   "cell_type": "code",
   "execution_count": null,
   "id": "87d3ef28",
   "metadata": {},
   "outputs": [],
   "source": [
    "train_data['tp_ex']=(train_data['TIPI1']+6-(train_data['TIPI6']))/2\n",
    "train_data['tp_ag']=(6-(train_data['TIPI2'])+train_data['TIPI7'])/2\n",
    "train_data['tp_co']=(train_data['TIPI3']+6-(train_data['TIPI8']))/2\n",
    "train_data['tp_em']=(6-(train_data['TIPI4'])+train_data['TIPI9'])/2\n",
    "train_data['tp_op']=(train_data['TIPI5']+6-(train_data['TIPI10']))/2"
   ]
  },
  {
   "cell_type": "code",
   "execution_count": null,
   "id": "e53695b7",
   "metadata": {},
   "outputs": [],
   "source": [
    "test_data['tp_ex']=(test_data['TIPI1']+6-(test_data['TIPI6']))/2\n",
    "test_data['tp_ag']=(6-(test_data['TIPI2']+test_data['TIPI7']))/2\n",
    "test_data['tp_co']=(test_data['TIPI3']+6-(test_data['TIPI8']))/2\n",
    "test_data['tp_em']=(6-(test_data['TIPI4']+test_data['TIPI9']))/2\n",
    "test_data['tp_op']=(test_data['TIPI5']+6-(test_data['TIPI10']))/2"
   ]
  },
  {
   "cell_type": "code",
   "execution_count": null,
   "id": "a978fcc7",
   "metadata": {},
   "outputs": [],
   "source": [
    "#기존 TIPI변수 빼주기(train, test)\n",
    "train_data.drop(train_data.iloc[:, 30:40], axis=1, inplace=True)\n",
    "test_data.drop(test_data.iloc[:, 30:40], axis=1, inplace=True)"
   ]
  },
  {
   "cell_type": "markdown",
   "id": "f8926403",
   "metadata": {},
   "source": [
    "## 마키아벨리즘 스코어 추가"
   ]
  },
  {
   "cell_type": "code",
   "execution_count": null,
   "id": "fbd5ea1d",
   "metadata": {},
   "outputs": [],
   "source": [
    "Answers=['Q1', 'Q2', 'Q3', 'Q4', 'Q5', 'Q6', 'Q7', 'Q8', 'Q9', 'Q10', 'Q11', 'Q12', 'Q13', 'Q14', 'Q15', 'Q16', 'Q17', 'Q18', 'Q19', 'Q20', 'Q21', 'Q22', 'Q23', 'Q24', 'Q25', 'Q26']"
   ]
  },
  {
   "cell_type": "code",
   "execution_count": null,
   "id": "81d158d1",
   "metadata": {},
   "outputs": [],
   "source": [
    "correlations = train_data[Answers].corr(method = 'spearman')\n",
    "sns.heatmap(correlations, cmap=\"coolwarm\", square=True, center=0)"
   ]
  },
  {
   "cell_type": "code",
   "execution_count": null,
   "id": "0bcc6a19",
   "metadata": {},
   "outputs": [],
   "source": [
    "train_data['Mach_score'] = train_data[Answers].mean(axis = 1)\n",
    "test_data['Mach_score'] = test_data[Answers].mean(axis = 1)"
   ]
  },
  {
   "cell_type": "code",
   "execution_count": null,
   "id": "52e8eae2",
   "metadata": {},
   "outputs": [],
   "source": [
    "#기존 Q1~26 변수 삭제\n",
    "train_data.drop(train_data.iloc[:, :26], axis=1, inplace=True)\n",
    "test_data.drop(test_data.iloc[:, :26], axis=1, inplace=True)"
   ]
  },
  {
   "cell_type": "markdown",
   "id": "688613bf",
   "metadata": {},
   "source": [
    "## VCL 유효성 검사\n",
    "- 유효하지 않다고 생각하는 문항 삭제(train_data)"
   ]
  },
  {
   "cell_type": "code",
   "execution_count": null,
   "id": "d05d7368",
   "metadata": {},
   "outputs": [],
   "source": [
    "#index3=train_data[train_data['VCL12']==1].index\n",
    "#train_data.drop(index3, inplace=True)\n",
    "index=train_data[(train_data['VCL6']==1) | (train_data['VCL9']==1) | (train_data['VCL12']==1)].index\n",
    "train_data.drop(index, inplace=True)\n",
    "# VCL1~16 문항 삭제(train, test)\n",
    "train_data.drop(train_data.iloc[:, 4:20], axis=1, inplace=True)\n",
    "test_data.drop(test_data.iloc[:, 4:20], axis=1, inplace=True)"
   ]
  },
  {
   "cell_type": "markdown",
   "id": "d4360570",
   "metadata": {},
   "source": [
    "## 상관계수 행렬 그래프(train->y(범주형)제외)"
   ]
  },
  {
   "cell_type": "code",
   "execution_count": null,
   "id": "f6d1f92d",
   "metadata": {},
   "outputs": [],
   "source": [
    "corr=train_data.drop(columns='nerdiness').corr(method='pearson')\n",
    "sns.heatmap(corr, xticklabels=corr.columns, yticklabels=corr.columns, cmap='RdBu_r', annot=True)\n",
    "plt.show()"
   ]
  },
  {
   "cell_type": "markdown",
   "id": "5c0b58e8",
   "metadata": {},
   "source": [
    "## 삭제할 컬럼 list로 저장, drop"
   ]
  },
  {
   "cell_type": "code",
   "execution_count": null,
   "id": "ea807449",
   "metadata": {},
   "outputs": [],
   "source": [
    "drop_list=['hand', 'country', 'introelapse', 'testelapse','surveyelapse']\n",
    "train_data.drop(drop_list,axis=1,inplace=True)\n",
    "test_data.drop(drop_list,axis=1,inplace=True)"
   ]
  },
  {
   "cell_type": "markdown",
   "id": "01a3b783",
   "metadata": {},
   "source": [
    "## 명목형-> str(문자) ->더미변환"
   ]
  },
  {
   "cell_type": "code",
   "execution_count": null,
   "id": "63a807b7",
   "metadata": {},
   "outputs": [],
   "source": [
    "train_data['education']=train_data['education'].astype('str')\n",
    "test_data['education']=test_data['education'].astype('str')\n",
    "\n",
    "train_data['urban']=train_data['urban'].astype('str')\n",
    "test_data['urban']=test_data['urban'].astype('str')\n",
    "\n",
    "train_data['gender']=train_data['gender'].astype('str')\n",
    "test_data['gender']=test_data['gender'].astype('str')\n",
    "\n",
    "train_data['engnat']=train_data['engnat'].astype('str')\n",
    "test_data['engnat']=test_data['engnat'].astype('str')\n",
    "\n",
    "train_data['religion']=train_data['religion'].astype('str')\n",
    "test_data['religion']=test_data['religion'].astype('str')\n",
    "\n",
    "train_data['married']=train_data['married'].astype('str')\n",
    "test_data['married']=test_data['married'].astype('str')\n",
    "\n",
    "train_data['ASD']=train_data['ASD'].astype('str')\n",
    "test_data['ASD']=test_data['ASD'].astype('str')\n",
    "\n",
    "train_data['voted']=train_data['voted'].astype('str')\n",
    "test_data['voted']=test_data['voted'].astype('str')\n",
    "\n",
    "train_data['orientation']=train_data['orientation'].astype('str')\n",
    "test_data['orientation']=test_data['orientation'].astype('str')"
   ]
  },
  {
   "cell_type": "code",
   "execution_count": null,
   "id": "2a52ad65",
   "metadata": {},
   "outputs": [],
   "source": [
    "#더미변환\n",
    "train_data=pd.get_dummies(train_data)\n",
    "test_data=pd.get_dummies(test_data)\n",
    "print(train_data.shape, test_data.shape)"
   ]
  },
  {
   "cell_type": "markdown",
   "id": "49466ec6",
   "metadata": {},
   "source": [
    "## 전체적으로 결측값 제거"
   ]
  },
  {
   "cell_type": "code",
   "execution_count": null,
   "id": "17860936",
   "metadata": {},
   "outputs": [],
   "source": [
    "#결측치 제거(train)\n",
    "#train_data.dropna(inplace=True)"
   ]
  },
  {
   "cell_type": "markdown",
   "id": "ab09a1b8",
   "metadata": {},
   "source": [
    "## train/test 분리\n",
    "- train_data에서 y컬럼 분리"
   ]
  },
  {
   "cell_type": "code",
   "execution_count": null,
   "id": "7c67ac37",
   "metadata": {},
   "outputs": [],
   "source": [
    "from sklearn.model_selection import train_test_split\n",
    "train_y=train_data['nerdiness']\n",
    "#train_y = 2 - train_y.to_numpy()\n",
    "train_data.drop('nerdiness',axis=1,inplace=True)\n",
    "train_x=train_data\n",
    "test_x=test_data"
   ]
  },
  {
   "cell_type": "code",
   "execution_count": null,
   "id": "c705d257",
   "metadata": {},
   "outputs": [],
   "source": [
    "X_train, X_test, y_train, y_test=train_test_split(train_x, train_y, test_size=0.3, shuffle=True, stratify=train_y, random_state=123)"
   ]
  },
  {
   "cell_type": "code",
   "execution_count": null,
   "id": "a36465f7",
   "metadata": {},
   "outputs": [],
   "source": [
    "X_train"
   ]
  },
  {
   "cell_type": "markdown",
   "id": "437d2c3f",
   "metadata": {},
   "source": [
    "## 모델링"
   ]
  },
  {
   "cell_type": "code",
   "execution_count": null,
   "id": "ece780b7",
   "metadata": {},
   "outputs": [],
   "source": [
    "from sklearn.ensemble import RandomForestClassifier\n",
    "model=RandomForestClassifier(max_depth = 100, n_estimators = 200)"
   ]
  },
  {
   "cell_type": "markdown",
   "id": "304fcec6",
   "metadata": {},
   "source": [
    "- 하이퍼파라미터 튜닝"
   ]
  },
  {
   "cell_type": "code",
   "execution_count": null,
   "id": "7f29e105",
   "metadata": {},
   "outputs": [],
   "source": [
    "from sklearn.ensemble import RandomForestClassifier\n",
    "from sklearn.metrics import accuracy_score\n",
    "\n",
    "model_md1 = RandomForestClassifier(max_depth = 1) # 모델을 객체에 할당\n",
    "model_md10 = RandomForestClassifier(max_depth = 10)\n",
    "model_md100 = RandomForestClassifier(max_depth = 100)\n",
    "\n",
    "model_md1.fit(X_train, y_train) # 모델 학습\n",
    "model_md10.fit(X_train, y_train) \n",
    "model_md100.fit(X_train, y_train) \n",
    "\n",
    "pred_md1 = model_md1.predict(X_test)\n",
    "pred_md10 = model_md10.predict(X_test)\n",
    "pred_md100 = model_md100.predict(X_test)\n",
    "\n",
    "print('RF max_depth = 1 의 예측 정확도는', round(accuracy_score(y_test, pred_md1),3)) # 정확도 확인\n",
    "print('RF max_depth = 10 의 예측 정확도는', round(accuracy_score(y_test, pred_md10),3)) # 정확도 확인\n",
    "print('RF max_depth = 100 의 예측 정확도는', round(accuracy_score(y_test, pred_md100),3)) # 정확도 확인"
   ]
  },
  {
   "cell_type": "code",
   "execution_count": null,
   "id": "11546af4",
   "metadata": {},
   "outputs": [],
   "source": [
    "from sklearn.ensemble import RandomForestClassifier\n",
    "\n",
    "model_ne1 = RandomForestClassifier(n_estimators = 1) # 모델을 객체에 할당\n",
    "model_ne200 = RandomForestClassifier(n_estimators = 200)\n",
    "\n",
    "model_ne1.fit(X_train, y_train) # 모델 학습\n",
    "model_ne200.fit(X_train, y_train) \n",
    "\n",
    "pred_ne1 = model_ne1.predict(X_test)\n",
    "pred_ne200 = model_ne200.predict(X_test)\n",
    "\n",
    "print('RF n_estimators = 1 의 예측 정확도는', round(accuracy_score(y_test, pred_ne1),3)) # 정확도 확인\n",
    "print('RF n_estimators = 200 의 예측 정확도는', round(accuracy_score(y_test, pred_ne200),3)) # 정확도 확인"
   ]
  },
  {
   "cell_type": "code",
   "execution_count": null,
   "id": "cb304335",
   "metadata": {},
   "outputs": [],
   "source": [
    "model.fit(X_train, y_train.values.ravel())\n",
    "pred_train=model.predict_proba(X_train)\n",
    "print(model.score(X_train, y_train.values.ravel()))"
   ]
  },
  {
   "cell_type": "code",
   "execution_count": null,
   "id": "aeff883a",
   "metadata": {},
   "outputs": [],
   "source": [
    "pred_test=model.predict(X_test)\n",
    "pred_test=pd.DataFrame(pred_test)\n",
    "pred_test.columns=['pred_y']\n",
    "print(pred_test.head(5))"
   ]
  },
  {
   "cell_type": "code",
   "execution_count": null,
   "id": "4b5fadcf",
   "metadata": {},
   "outputs": [],
   "source": [
    "#제출용\n",
    "pred_test=model.predict(test_x)\n",
    "pred_test=pd.DataFrame(pred_test)\n",
    "pred_test.columns=['pred_y']\n",
    "print(pred_test.head(5))\n",
    "result=pred_test['pred_y']"
   ]
  },
  {
   "cell_type": "code",
   "execution_count": null,
   "id": "1793b9d6",
   "metadata": {},
   "outputs": [],
   "source": [
    "submission = pd.DataFrame({'index' :test_data.index, 'nerdiness':result})\n",
    "submission.to_csv('submission_rf4.csv',index=False)"
   ]
  },
  {
   "cell_type": "code",
   "execution_count": null,
   "id": "7fb07732",
   "metadata": {},
   "outputs": [],
   "source": [
    "data=pd.read_csv(\"submission_rf4.csv\")"
   ]
  },
  {
   "cell_type": "code",
   "execution_count": null,
   "id": "93570663",
   "metadata": {},
   "outputs": [],
   "source": [
    "data.head(15)"
   ]
  },
  {
   "cell_type": "code",
   "execution_count": null,
   "id": "53f2f7ed",
   "metadata": {},
   "outputs": [],
   "source": []
  }
 ],
 "metadata": {
  "kernelspec": {
   "display_name": "Python 3 (ipykernel)",
   "language": "python",
   "name": "python3"
  },
  "language_info": {
   "codemirror_mode": {
    "name": "ipython",
    "version": 3
   },
   "file_extension": ".py",
   "mimetype": "text/x-python",
   "name": "python",
   "nbconvert_exporter": "python",
   "pygments_lexer": "ipython3",
   "version": "3.8.5"
  }
 },
 "nbformat": 4,
 "nbformat_minor": 5
}
