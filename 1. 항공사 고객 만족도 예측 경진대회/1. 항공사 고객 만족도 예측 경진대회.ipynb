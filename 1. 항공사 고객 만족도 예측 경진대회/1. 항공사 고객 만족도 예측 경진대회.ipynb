{
 "cells": [
  {
   "cell_type": "code",
   "execution_count": 1,
   "id": "33b0b294",
   "metadata": {},
   "outputs": [],
   "source": [
    "# 파일 불러오기\n",
    "# 파일 링크 : https://dacon.io/competitions/official/235871/data\n",
    "import pandas as pd\n",
    "X_train_total=pd.read_csv(\"train.csv\")\n",
    "X_test=pd.read_csv(\"test.csv\")"
   ]
  },
  {
   "cell_type": "code",
   "execution_count": 2,
   "id": "26c20a72",
   "metadata": {},
   "outputs": [],
   "source": [
    "# X_train/y_train 데이터 설정\n",
    "X_train=X_train_total.drop(\"target\", axis=1)\n",
    "y_train=X_train_total[[\"target\"]]"
   ]
  },
  {
   "cell_type": "code",
   "execution_count": 3,
   "id": "b9ef9cb0",
   "metadata": {},
   "outputs": [
    {
     "name": "stdout",
     "output_type": "stream",
     "text": [
      "2\n",
      "2\n"
     ]
    }
   ],
   "source": [
    "# print(X_train.info())\n",
    "# 데이터 \n",
    "# Gender, Customer Type, Type of Travel, Class 바꿔야함\n",
    "# train과 test에 같은 속성이 있는지 갯수 확인(?)\n",
    "a=X_train['Gender'].unique()\n",
    "print(len(a))\n",
    "b=X_test['Gender'].unique()\n",
    "print(len(b))"
   ]
  },
  {
   "cell_type": "code",
   "execution_count": 4,
   "id": "73319752",
   "metadata": {},
   "outputs": [
    {
     "name": "stdout",
     "output_type": "stream",
     "text": [
      "2\n",
      "2\n"
     ]
    }
   ],
   "source": [
    "a=X_train['Customer Type'].unique()\n",
    "print(len(a))\n",
    "b=X_test['Customer Type'].unique()\n",
    "print(len(b))"
   ]
  },
  {
   "cell_type": "code",
   "execution_count": 5,
   "id": "46b9fcca",
   "metadata": {},
   "outputs": [
    {
     "name": "stdout",
     "output_type": "stream",
     "text": [
      "2\n",
      "2\n"
     ]
    }
   ],
   "source": [
    "a=X_train['Type of Travel'].unique()\n",
    "print(len(a))\n",
    "b=X_test['Type of Travel'].unique()\n",
    "print(len(b))"
   ]
  },
  {
   "cell_type": "code",
   "execution_count": 6,
   "id": "b394631b",
   "metadata": {},
   "outputs": [
    {
     "name": "stdout",
     "output_type": "stream",
     "text": [
      "3\n",
      "3\n"
     ]
    }
   ],
   "source": [
    "a=X_train['Class'].unique()\n",
    "print(len(a))\n",
    "b=X_test['Class'].unique()\n",
    "print(len(b))"
   ]
  },
  {
   "cell_type": "code",
   "execution_count": 7,
   "id": "40f2b651",
   "metadata": {},
   "outputs": [],
   "source": [
    "# cust_id만 따로 저장..!\n",
    "cust_id=X_test[[\"id\"]]"
   ]
  },
  {
   "cell_type": "code",
   "execution_count": 8,
   "id": "e92c692b",
   "metadata": {},
   "outputs": [],
   "source": [
    "# id컬럼은 필요 없으니 삭제\n",
    "X_train=X_train.drop('id', axis=1)\n",
    "X_test=X_test.drop('id', axis=1)\n",
    "# 더미변환\n",
    "X_train_dum=pd.get_dummies(X_train)\n",
    "X_test_dum=pd.get_dummies(X_test)"
   ]
  },
  {
   "cell_type": "code",
   "execution_count": 9,
   "id": "0abd9baf",
   "metadata": {},
   "outputs": [
    {
     "name": "stdout",
     "output_type": "stream",
     "text": [
      "<class 'pandas.core.frame.DataFrame'>\n",
      "RangeIndex: 3000 entries, 0 to 2999\n",
      "Data columns (total 27 columns):\n",
      " #   Column                             Non-Null Count  Dtype  \n",
      "---  ------                             --------------  -----  \n",
      " 0   Age                                3000 non-null   int64  \n",
      " 1   Flight Distance                    3000 non-null   int64  \n",
      " 2   Seat comfort                       3000 non-null   int64  \n",
      " 3   Departure/Arrival time convenient  3000 non-null   int64  \n",
      " 4   Food and drink                     3000 non-null   int64  \n",
      " 5   Gate location                      3000 non-null   int64  \n",
      " 6   Inflight wifi service              3000 non-null   int64  \n",
      " 7   Inflight entertainment             3000 non-null   int64  \n",
      " 8   Online support                     3000 non-null   int64  \n",
      " 9   Ease of Online booking             3000 non-null   int64  \n",
      " 10  On-board service                   3000 non-null   int64  \n",
      " 11  Leg room service                   3000 non-null   int64  \n",
      " 12  Baggage handling                   3000 non-null   int64  \n",
      " 13  Checkin service                    3000 non-null   int64  \n",
      " 14  Cleanliness                        3000 non-null   int64  \n",
      " 15  Online boarding                    3000 non-null   int64  \n",
      " 16  Departure Delay in Minutes         3000 non-null   int64  \n",
      " 17  Arrival Delay in Minutes           3000 non-null   float64\n",
      " 18  Gender_Female                      3000 non-null   uint8  \n",
      " 19  Gender_Male                        3000 non-null   uint8  \n",
      " 20  Customer Type_Loyal Customer       3000 non-null   uint8  \n",
      " 21  Customer Type_disloyal Customer    3000 non-null   uint8  \n",
      " 22  Type of Travel_Business travel     3000 non-null   uint8  \n",
      " 23  Type of Travel_Personal Travel     3000 non-null   uint8  \n",
      " 24  Class_Business                     3000 non-null   uint8  \n",
      " 25  Class_Eco                          3000 non-null   uint8  \n",
      " 26  Class_Eco Plus                     3000 non-null   uint8  \n",
      "dtypes: float64(1), int64(17), uint8(9)\n",
      "memory usage: 448.4 KB\n",
      "None\n"
     ]
    }
   ],
   "source": [
    "# 더미변환 후 데이터 형태 확인\n",
    "print(X_train_dum.info())"
   ]
  },
  {
   "cell_type": "code",
   "execution_count": 10,
   "id": "0f915eb3",
   "metadata": {},
   "outputs": [],
   "source": [
    "# 정규화\n",
    "from sklearn.preprocessing import MinMaxScaler\n",
    "minmax=MinMaxScaler()\n",
    "minmax.fit(X_train_dum)\n",
    "minmax_X_train=minmax.transform(X_train_dum)\n",
    "minmax_X_test=minmax.transform(X_test_dum)"
   ]
  },
  {
   "cell_type": "code",
   "execution_count": 11,
   "id": "4ab4c814",
   "metadata": {},
   "outputs": [
    {
     "name": "stdout",
     "output_type": "stream",
     "text": [
      "                0            1            2            3            4   \\\n",
      "count  3000.000000  3000.000000  3000.000000  3000.000000  3000.000000   \n",
      "mean      0.441137     0.282735     0.572667     0.601933     0.574867   \n",
      "std       0.206970     0.150528     0.278996     0.303909     0.286302   \n",
      "min       0.000000     0.000000     0.000000     0.000000     0.000000   \n",
      "25%       0.273973     0.189788     0.400000     0.400000     0.400000   \n",
      "50%       0.438356     0.275988     0.600000     0.600000     0.600000   \n",
      "75%       0.602740     0.365337     0.800000     0.800000     0.800000   \n",
      "max       1.000000     1.000000     1.000000     1.000000     1.000000   \n",
      "\n",
      "                5            6            7           8            9   ...  \\\n",
      "count  3000.000000  3000.000000  3000.000000  3000.00000  3000.000000  ...   \n",
      "mean      0.504167     0.651933     0.670467     0.62625     0.697600  ...   \n",
      "std       0.323678     0.264537     0.270565     0.32767     0.260442  ...   \n",
      "min       0.000000     0.000000     0.000000     0.00000     0.000000  ...   \n",
      "25%       0.250000     0.400000     0.400000     0.50000     0.400000  ...   \n",
      "50%       0.500000     0.600000     0.800000     0.75000     0.800000  ...   \n",
      "75%       0.750000     0.800000     0.800000     1.00000     1.000000  ...   \n",
      "max       1.000000     1.000000     1.000000     1.00000     1.000000  ...   \n",
      "\n",
      "                17           18           19           20           21  \\\n",
      "count  3000.000000  3000.000000  3000.000000  3000.000000  3000.000000   \n",
      "mean      0.014280     0.499333     0.500667     0.829667     0.170333   \n",
      "std       0.040541     0.500083     0.500083     0.375988     0.375988   \n",
      "min       0.000000     0.000000     0.000000     0.000000     0.000000   \n",
      "25%       0.000000     0.000000     0.000000     1.000000     0.000000   \n",
      "50%       0.000000     0.000000     1.000000     1.000000     0.000000   \n",
      "75%       0.011659     1.000000     1.000000     1.000000     0.000000   \n",
      "max       1.000000     1.000000     1.000000     1.000000     1.000000   \n",
      "\n",
      "                22           23           24           25           26  \n",
      "count  3000.000000  3000.000000  3000.000000  3000.000000  3000.000000  \n",
      "mean      0.684333     0.315667     0.478000     0.445667     0.076333  \n",
      "std       0.464858     0.464858     0.499599     0.497122     0.265575  \n",
      "min       0.000000     0.000000     0.000000     0.000000     0.000000  \n",
      "25%       0.000000     0.000000     0.000000     0.000000     0.000000  \n",
      "50%       1.000000     0.000000     0.000000     0.000000     0.000000  \n",
      "75%       1.000000     1.000000     1.000000     1.000000     0.000000  \n",
      "max       1.000000     1.000000     1.000000     1.000000     1.000000  \n",
      "\n",
      "[8 rows x 27 columns]\n"
     ]
    }
   ],
   "source": [
    "# minmax 정규화가 잘 적용되었는지 확인\n",
    "print(pd.DataFrame(minmax_X_train).describe())"
   ]
  },
  {
   "cell_type": "code",
   "execution_count": 12,
   "id": "494f5b34",
   "metadata": {},
   "outputs": [],
   "source": [
    "# 랜덤포레스트 모델 생성\n",
    "from sklearn.ensemble import RandomForestClassifier\n",
    "model=RandomForestClassifier(random_state=42)"
   ]
  },
  {
   "cell_type": "code",
   "execution_count": 13,
   "id": "64993101",
   "metadata": {},
   "outputs": [
    {
     "name": "stdout",
     "output_type": "stream",
     "text": [
      "1.0\n"
     ]
    }
   ],
   "source": [
    "# 모델 적용, train target 예측\n",
    "model.fit(minmax_X_train, y_train.values.ravel())\n",
    "prob_train=model.predict(minmax_X_train)\n",
    "print(model.score(minmax_X_train, y_train.values.ravel()))"
   ]
  },
  {
   "cell_type": "code",
   "execution_count": 14,
   "id": "7430bc95",
   "metadata": {},
   "outputs": [],
   "source": [
    "# test target 예측\n",
    "prob_test=model.predict(minmax_X_test)\n",
    "prob_test=pd.DataFrame(prob_test)"
   ]
  },
  {
   "cell_type": "code",
   "execution_count": 15,
   "id": "b2881805",
   "metadata": {},
   "outputs": [
    {
     "name": "stdout",
     "output_type": "stream",
     "text": [
      "        id  target\n",
      "0        1       1\n",
      "1        2       0\n",
      "2        3       1\n",
      "3        4       1\n",
      "4        5       1\n",
      "...    ...     ...\n",
      "1995  1996       0\n",
      "1996  1997       1\n",
      "1997  1998       0\n",
      "1998  1999       1\n",
      "1999  2000       1\n",
      "\n",
      "[2000 rows x 2 columns]\n"
     ]
    }
   ],
   "source": [
    "# cust_id 컬럼과 예측 컬럼 병합\n",
    "total=pd.concat([cust_id, prob_test], axis=1)\n",
    "\n",
    "# 컬럼명 변경\n",
    "total.columns=['id', 'target']\n",
    "print(total)"
   ]
  },
  {
   "cell_type": "code",
   "execution_count": 16,
   "id": "c052b67c",
   "metadata": {},
   "outputs": [],
   "source": [
    "# 파일 내보내기\n",
    "total.to_csv('cust_predcit.csv', index=False)"
   ]
  }
 ],
 "metadata": {
  "kernelspec": {
   "display_name": "Python 3 (ipykernel)",
   "language": "python",
   "name": "python3"
  },
  "language_info": {
   "codemirror_mode": {
    "name": "ipython",
    "version": 3
   },
   "file_extension": ".py",
   "mimetype": "text/x-python",
   "name": "python",
   "nbconvert_exporter": "python",
   "pygments_lexer": "ipython3",
   "version": "3.8.5"
  }
 },
 "nbformat": 4,
 "nbformat_minor": 5
}
