{
 "cells": [
  {
   "cell_type": "code",
   "execution_count": 1,
   "id": "3ce7c3b3",
   "metadata": {},
   "outputs": [],
   "source": [
    "# 데이터 파악\n",
    "import matplotlib\n",
    "%matplotlib inline"
   ]
  },
  {
   "cell_type": "code",
   "execution_count": 2,
   "id": "7dd9f2e8",
   "metadata": {},
   "outputs": [],
   "source": [
    "import matplotlib.pyplot as plt\n",
    "import matplotlib.font_manager as fm"
   ]
  },
  {
   "cell_type": "code",
   "execution_count": 3,
   "id": "5d433ccb",
   "metadata": {},
   "outputs": [],
   "source": [
    "# 패키지 다운\n",
    "import pandas as pd\n",
    "from glob import glob\n",
    "import os\n",
    "import numpy as np\n",
    "from tqdm import tqdm, tqdm_notebook\n",
    "\n",
    "from konlpy.tag import Okt\n",
    "from collections import Counter"
   ]
  },
  {
   "cell_type": "code",
   "execution_count": 4,
   "id": "9aef2bda",
   "metadata": {},
   "outputs": [],
   "source": [
    "# 데이터 불러오기\n",
    "train=pd.read_csv(\"train_data.csv\")\n",
    "test=pd.read_csv(\"test_data.csv\")"
   ]
  },
  {
   "cell_type": "code",
   "execution_count": 5,
   "id": "20981525",
   "metadata": {},
   "outputs": [
    {
     "data": {
      "text/html": [
       "<div>\n",
       "<style scoped>\n",
       "    .dataframe tbody tr th:only-of-type {\n",
       "        vertical-align: middle;\n",
       "    }\n",
       "\n",
       "    .dataframe tbody tr th {\n",
       "        vertical-align: top;\n",
       "    }\n",
       "\n",
       "    .dataframe thead th {\n",
       "        text-align: right;\n",
       "    }\n",
       "</style>\n",
       "<table border=\"1\" class=\"dataframe\">\n",
       "  <thead>\n",
       "    <tr style=\"text-align: right;\">\n",
       "      <th></th>\n",
       "      <th>index</th>\n",
       "      <th>premise</th>\n",
       "      <th>hypothesis</th>\n",
       "      <th>label</th>\n",
       "    </tr>\n",
       "  </thead>\n",
       "  <tbody>\n",
       "    <tr>\n",
       "      <th>0</th>\n",
       "      <td>0</td>\n",
       "      <td>씨름은 상고시대로부터 전해져 내려오는 남자들의 대표적인 놀이로서, 소년이나 장정들이...</td>\n",
       "      <td>씨름의 여자들의 놀이이다.</td>\n",
       "      <td>contradiction</td>\n",
       "    </tr>\n",
       "    <tr>\n",
       "      <th>1</th>\n",
       "      <td>1</td>\n",
       "      <td>삼성은 자작극을 벌인 2명에게 형사 고소 등의 법적 대응을 검토 중이라고 하였으나,...</td>\n",
       "      <td>자작극을 벌인 이는 3명이다.</td>\n",
       "      <td>contradiction</td>\n",
       "    </tr>\n",
       "    <tr>\n",
       "      <th>2</th>\n",
       "      <td>2</td>\n",
       "      <td>이를 위해 예측적 범죄예방 시스템을 구축하고 고도화한다.</td>\n",
       "      <td>예측적 범죄예방 시스템 구축하고 고도화하는 것은 목적이 있기 때문이다.</td>\n",
       "      <td>entailment</td>\n",
       "    </tr>\n",
       "    <tr>\n",
       "      <th>3</th>\n",
       "      <td>3</td>\n",
       "      <td>광주광역시가 재개발 정비사업 원주민들에 대한 종합대책을 마련하는 등 원주민 보호에 ...</td>\n",
       "      <td>원주민들은 종합대책에 만족했다.</td>\n",
       "      <td>neutral</td>\n",
       "    </tr>\n",
       "    <tr>\n",
       "      <th>4</th>\n",
       "      <td>4</td>\n",
       "      <td>진정 소비자와 직원들에게 사랑 받는 기업으로 오래 지속되고 싶으면, 이런 상황에서는...</td>\n",
       "      <td>이런 상황에서 책임 있는 모습을 보여주는 기업은 아주 드물다.</td>\n",
       "      <td>neutral</td>\n",
       "    </tr>\n",
       "  </tbody>\n",
       "</table>\n",
       "</div>"
      ],
      "text/plain": [
       "   index                                            premise  \\\n",
       "0      0  씨름은 상고시대로부터 전해져 내려오는 남자들의 대표적인 놀이로서, 소년이나 장정들이...   \n",
       "1      1  삼성은 자작극을 벌인 2명에게 형사 고소 등의 법적 대응을 검토 중이라고 하였으나,...   \n",
       "2      2                    이를 위해 예측적 범죄예방 시스템을 구축하고 고도화한다.   \n",
       "3      3  광주광역시가 재개발 정비사업 원주민들에 대한 종합대책을 마련하는 등 원주민 보호에 ...   \n",
       "4      4  진정 소비자와 직원들에게 사랑 받는 기업으로 오래 지속되고 싶으면, 이런 상황에서는...   \n",
       "\n",
       "                                hypothesis          label  \n",
       "0                           씨름의 여자들의 놀이이다.  contradiction  \n",
       "1                         자작극을 벌인 이는 3명이다.  contradiction  \n",
       "2  예측적 범죄예방 시스템 구축하고 고도화하는 것은 목적이 있기 때문이다.     entailment  \n",
       "3                        원주민들은 종합대책에 만족했다.        neutral  \n",
       "4       이런 상황에서 책임 있는 모습을 보여주는 기업은 아주 드물다.        neutral  "
      ]
     },
     "execution_count": 5,
     "metadata": {},
     "output_type": "execute_result"
    }
   ],
   "source": [
    "# 상단 데이터 확인\n",
    "train.head()"
   ]
  },
  {
   "cell_type": "code",
   "execution_count": 6,
   "id": "bb9c6ddd",
   "metadata": {},
   "outputs": [
    {
     "name": "stdout",
     "output_type": "stream",
     "text": [
      "(24998, 4)\n",
      "(1666, 4)\n"
     ]
    }
   ],
   "source": [
    "# 데이터 구조 확인\n",
    "print(train.shape)\n",
    "print(test.shape)"
   ]
  },
  {
   "cell_type": "code",
   "execution_count": 7,
   "id": "e71cb18e",
   "metadata": {},
   "outputs": [],
   "source": [
    "# 1. 히스토그램\n",
    "# train데이터의 label컬럼을 저장\n",
    "feature=train['label']"
   ]
  },
  {
   "cell_type": "code",
   "execution_count": 8,
   "id": "9664567e",
   "metadata": {},
   "outputs": [
    {
     "data": {
      "image/png": "[encoded data removed]",
      "text/plain": [
       "<Figure size 720x540 with 1 Axes>"
      ]
     },
     "metadata": {
      "needs_background": "light"
     },
     "output_type": "display_data"
    }
   ],
   "source": [
    "plt.figure(figsize=(10, 7.5))\n",
    "plt.title('label', fontsize=20)\n",
    "\n",
    "# value를 count해서 temp에 저장\n",
    "temp=feature.value_counts()\n",
    "plt.bar(temp.keys(), temp.values, width=0.5)\n",
    "plt.xticks(temp.keys(), fontsize=15)\n",
    "plt.show()\n",
    "\n",
    "# 라벨이 일정하게 분포되어 있는 것을 확인!"
   ]
  },
  {
   "cell_type": "code",
   "execution_count": 9,
   "id": "37441eac",
   "metadata": {},
   "outputs": [
    {
     "name": "stdout",
     "output_type": "stream",
     "text": [
      "실제 Text 평균 길이: 45.406552524201935\n",
      "가설 Text 평균 길이: 24.924433954716378\n"
     ]
    }
   ],
   "source": [
    "# 실제 text와 가설 text의 평균 길이\n",
    "premise_len_mean=np.mean(train['premise'].str.len())\n",
    "print('실제 Text 평균 길이:', premise_len_mean)\n",
    "hypo_len_mean=np.mean(train['hypothesis'].str.len())\n",
    "print(\"가설 Text 평균 길이:\", hypo_len_mean)"
   ]
  },
  {
   "cell_type": "code",
   "execution_count": 11,
   "id": "dd8e9802",
   "metadata": {},
   "outputs": [],
   "source": [
    "# entailment:참 / contradiction:거짓 / neutral:중립\n",
    "mask_true=(train.label=='entailment')\n",
    "mask_false=(train.label=='contradiction')\n",
    "mask_neutral=(train.label=='neutral')\n",
    "\n",
    "# train데이터의 premise컬럼을 복사해서 df_train에 저장\n",
    "df_train=train.premise.copy()"
   ]
  },
  {
   "cell_type": "code",
   "execution_count": 12,
   "id": "0d5e9dd5",
   "metadata": {},
   "outputs": [],
   "source": [
    "# train데이터의 premise컬럼의 mask_true, mask_false, mask_neutral 행을 따로 저장?\n",
    "df_true=train.loc[mask_true,:].premise\n",
    "df_false=train.loc[mask_false,:].premise\n",
    "df_neu=train.loc[mask_neutral,:].premise"
   ]
  },
  {
   "cell_type": "code",
   "execution_count": 13,
   "id": "8f03e5b0",
   "metadata": {},
   "outputs": [],
   "source": [
    "# 세 집합을 리스트로 묶어줌\n",
    "compare=[df_train, df_true, df_false, df_neu]"
   ]
  },
  {
   "cell_type": "code",
   "execution_count": 15,
   "id": "2cfb7946",
   "metadata": {},
   "outputs": [
    {
     "data": {
      "image/png": "[encoded data removed]",
      "text/plain": [
       "<Figure size 1440x864 with 4 Axes>"
      ]
     },
     "metadata": {
      "needs_background": "light"
     },
     "output_type": "display_data"
    }
   ],
   "source": [
    "# 히스토그램 을 사용해서 데이터의 분포를 살펴봅니다.\n",
    "# premise의 길이는 대부분 20-30자에 분포\n",
    "\n",
    "plt.figure(figsize=(20,12))\n",
    "plt.suptitle(\"Histogram: premise length\", fontsize=40)\n",
    "name = ['total dataset', 'entailment text', 'contradiction text', 'neutral text']\n",
    "\n",
    "for i in range(len(compare)):\n",
    "    document = compare[i]\n",
    "    string_len = [len(x) for x in document]\n",
    "    plt.subplot(2, 2, i+1)\n",
    "    plt.title(name[i], fontsize=20)\n",
    "    plt.hist(string_len, alpha=0.5, color='orange') \n",
    "    \n",
    "plt.show()"
   ]
  }
 ],
 "metadata": {
  "kernelspec": {
   "display_name": "Python 3 (ipykernel)",
   "language": "python",
   "name": "python3"
  },
  "language_info": {
   "codemirror_mode": {
    "name": "ipython",
    "version": 3
   },
   "file_extension": ".py",
   "mimetype": "text/x-python",
   "name": "python",
   "nbconvert_exporter": "python",
   "pygments_lexer": "ipython3",
   "version": "3.8.5"
  }
 },
 "nbformat": 4,
 "nbformat_minor": 5
}
